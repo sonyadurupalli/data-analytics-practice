{
 "cells": [
  {
   "cell_type": "markdown",
   "id": "275edc0c-2e41-482d-a9bf-5ad03cb56710",
   "metadata": {},
   "source": [
    "# Python Variables – Data Analytics Practice\n",
    "\n",
    "This notebook includes practice questions focused on Python variables, applied in a data analytics context.  \n",
    "Topics covered:  \n",
    "- Company metrics  \n",
    "- Monthly sales analysis  \n",
    "- Dataset metadata storage  \n",
    "- Salary calculator  \n",
    "- Budget planner\n",
    "\n",
    "Prepared as part of my data analytics upskilling journey.\n",
    "\n"
   ]
  },
  {
   "cell_type": "markdown",
   "id": "b172e89e-5e11-4b7c-9136-b4ac7ad7afda",
   "metadata": {},
   "source": [
    "# Print Function \n",
    "\n",
    "printing a statement using print function "
   ]
  },
  {
   "cell_type": "code",
   "execution_count": 1,
   "id": "abc25a61-15ff-4708-a563-04ba2f6c14ad",
   "metadata": {},
   "outputs": [
    {
     "name": "stdout",
     "output_type": "stream",
     "text": [
      "python for data analytics\n"
     ]
    }
   ],
   "source": [
    "print(\"python for data analytics\")"
   ]
  },
  {
   "cell_type": "markdown",
   "id": "170b9dee-a1c6-47f2-b2a2-2a05b8ba816b",
   "metadata": {},
   "source": [
    "# variables and operators"
   ]
  },
  {
   "cell_type": "code",
   "execution_count": 2,
   "id": "24c91925-758e-4578-ae82-20e5bab42ade",
   "metadata": {},
   "outputs": [],
   "source": [
    "var=5"
   ]
  },
  {
   "cell_type": "code",
   "execution_count": 3,
   "id": "5d0ee364-16b2-454a-968a-0b8301b5a2e0",
   "metadata": {},
   "outputs": [
    {
     "name": "stdout",
     "output_type": "stream",
     "text": [
      "Variable   Type    Data/Info\n",
      "----------------------------\n",
      "var        int     5\n"
     ]
    }
   ],
   "source": [
    "%whos "
   ]
  },
  {
   "cell_type": "markdown",
   "id": "d4d960e8-4e6a-449d-b926-4859a518ae3c",
   "metadata": {},
   "source": [
    "%whos describes the current variables in the memory"
   ]
  },
  {
   "cell_type": "markdown",
   "id": "17859cfe-e20f-4edd-9193-35ed8187993a",
   "metadata": {},
   "source": [
    "# Typefunction type()\n",
    "it is used to know the datatype of a variable"
   ]
  },
  {
   "cell_type": "code",
   "execution_count": 4,
   "id": "41873bab-f0e1-4ca6-acdc-9c927d03df9e",
   "metadata": {},
   "outputs": [
    {
     "name": "stdout",
     "output_type": "stream",
     "text": [
      "<class 'int'>\n"
     ]
    }
   ],
   "source": [
    "print(type(var))"
   ]
  },
  {
   "cell_type": "code",
   "execution_count": 5,
   "id": "4f23a0ed-4c3a-464f-8de6-215c66cd02ba",
   "metadata": {},
   "outputs": [],
   "source": [
    "var2=50.9"
   ]
  },
  {
   "cell_type": "code",
   "execution_count": 6,
   "id": "429fa633-21f6-4d19-bc02-518ddb16e6db",
   "metadata": {},
   "outputs": [
    {
     "name": "stdout",
     "output_type": "stream",
     "text": [
      "<class 'float'>\n"
     ]
    }
   ],
   "source": [
    "print(type(var2))"
   ]
  },
  {
   "cell_type": "code",
   "execution_count": 7,
   "id": "ce6a3bfa-0bfc-4718-91a9-5637ff2245f2",
   "metadata": {},
   "outputs": [
    {
     "name": "stdout",
     "output_type": "stream",
     "text": [
      "Variable   Type     Data/Info\n",
      "-----------------------------\n",
      "var        int      5\n",
      "var2       float    50.9\n"
     ]
    }
   ],
   "source": [
    "%whos"
   ]
  },
  {
   "cell_type": "markdown",
   "id": "590cc6e9-3c79-4721-9739-332cba63b385",
   "metadata": {},
   "source": [
    "To assign multiple values "
   ]
  },
  {
   "cell_type": "code",
   "execution_count": 8,
   "id": "d454338b-a392-4963-9af4-3be5af110274",
   "metadata": {},
   "outputs": [],
   "source": [
    "a,b,c,d=2,3.0,\"hello\",'a'"
   ]
  },
  {
   "cell_type": "code",
   "execution_count": 9,
   "id": "7afe6795-4410-42df-8d3d-95371d343495",
   "metadata": {},
   "outputs": [
    {
     "name": "stdout",
     "output_type": "stream",
     "text": [
      "<class 'int'>\n"
     ]
    }
   ],
   "source": [
    "print(type(a))"
   ]
  },
  {
   "cell_type": "code",
   "execution_count": 10,
   "id": "3b72f1ff-bb9c-4373-b9d7-af3c3f385c97",
   "metadata": {},
   "outputs": [
    {
     "name": "stdout",
     "output_type": "stream",
     "text": [
      "Variable   Type     Data/Info\n",
      "-----------------------------\n",
      "a          int      2\n",
      "b          float    3.0\n",
      "c          str      hello\n",
      "d          str      a\n",
      "var        int      5\n",
      "var2       float    50.9\n"
     ]
    }
   ],
   "source": [
    "%whos"
   ]
  },
  {
   "cell_type": "code",
   "execution_count": 11,
   "id": "cc1992a2-46df-46c4-ab38-5ac634935050",
   "metadata": {},
   "outputs": [],
   "source": [
    "var3=2+8j"
   ]
  },
  {
   "cell_type": "code",
   "execution_count": 12,
   "id": "542fa1ea-6981-4307-9708-9213d13dcfd4",
   "metadata": {},
   "outputs": [
    {
     "name": "stdout",
     "output_type": "stream",
     "text": [
      "<class 'complex'>\n"
     ]
    }
   ],
   "source": [
    "print(type(var3))"
   ]
  },
  {
   "cell_type": "markdown",
   "id": "353451f1-2bfb-4e15-992b-313f7561885a",
   "metadata": {},
   "source": [
    "# example 1\n",
    "variables declaration and assigment of values "
   ]
  },
  {
   "cell_type": "code",
   "execution_count": 13,
   "id": "b967b6af-25db-44f0-a95f-6c948d6128ed",
   "metadata": {},
   "outputs": [],
   "source": [
    "# job description\n",
    "company=\"walmart\"\n",
    "no_of_emp=1000\n",
    "emp_name=\"jhon\"\n",
    "emp_id=101\n",
    "emp_department=\"marketing\"\n",
    "emp_salary=1.3\n",
    "emp_presence=True"
   ]
  },
  {
   "cell_type": "code",
   "execution_count": 14,
   "id": "3ba9980d-d8eb-4017-bead-beef67737e86",
   "metadata": {},
   "outputs": [
    {
     "name": "stdout",
     "output_type": "stream",
     "text": [
      "company_name= walmart\n",
      "no_of_emp= 1000\n",
      "emp_name jhon\n",
      "emp_id= 101\n",
      "emp_department= marketing\n",
      "emp_salary= 1.3\n",
      "emp_presence= True\n"
     ]
    }
   ],
   "source": [
    "print(\"company_name=\",company)\n",
    "print(\"no_of_emp=\",no_of_emp)\n",
    "print(\"emp_name\",emp_name)\n",
    "print(\"emp_id=\",emp_id)\n",
    "print(\"emp_department=\",emp_department)\n",
    "print(\"emp_salary=\",emp_salary)\n",
    "print(\"emp_presence=\",emp_presence)\n"
   ]
  },
  {
   "cell_type": "markdown",
   "id": "6c5eee94-67d7-4cf8-8bec-bcebc2179ddd",
   "metadata": {},
   "source": [
    "# Python Variables Practice for Data Analytics\n",
    "This notebook includes variable-based exercises that simulate real-world use cases for a data analyst.\n",
    "Topics include sales tracking, company info, file stats, and basic calculations.\n"
   ]
  },
  {
   "cell_type": "markdown",
   "id": "bf3e8814-e337-43ef-9b39-309447f489d5",
   "metadata": {},
   "source": [
    "# Q1: Store company details in variables**  \n",
    "Create variables to store the following details for a company:\n",
    "- Company name = \"DataVision Inc.\"\n",
    "- Total employees = 85  \n",
    "- Revenue (in crores) = 12.5  \n",
    "- Is it hiring? = True  \n",
    "Print all the values with a proper label."
   ]
  },
  {
   "cell_type": "code",
   "execution_count": 15,
   "id": "9ba2d179-cb4b-4343-aadc-0b8e4eabcef7",
   "metadata": {},
   "outputs": [],
   "source": [
    "#Assigning values to the above given variables\n",
    "Company_name = \"DataVision Inc.\"\n",
    "Total_employees = 85\n",
    "Revenue= 12.5\n",
    "hiring = True"
   ]
  },
  {
   "cell_type": "code",
   "execution_count": 16,
   "id": "5db2c1bf-9815-4c49-940c-554ca39a8e4d",
   "metadata": {},
   "outputs": [
    {
     "name": "stdout",
     "output_type": "stream",
     "text": [
      " ** COMPANY DISCRIPTION ** \n",
      "Company name=  DataVision Inc.\n",
      "total employees= 85\n",
      "Revenue (in crores)= 12.5\n",
      "Is it hiring?= True\n"
     ]
    }
   ],
   "source": [
    "print(\" ** COMPANY DISCRIPTION ** \")\n",
    "print(\"Company name= \",Company_name)\n",
    "print(\"total employees=\",Total_employees)\n",
    "print(\"Revenue (in crores)=\",Revenue)\n",
    "print(\"Is it hiring?=\" , hiring)"
   ]
  },
  {
   "cell_type": "markdown",
   "id": "63a1f54d-12c8-4bad-ad84-67c272328414",
   "metadata": {},
   "source": [
    "\n",
    "\n",
    "# 🔹 **Q2: Monthly Sales Analysis**\n",
    "You’re given sales of the first three months:\n",
    "\n",
    "```python\n",
    "jan_sales = 150000\n",
    "feb_sales = 175000\n",
    "mar_sales = 160000"
   ]
  },
  {
   "cell_type": "markdown",
   "id": "6a1fe9c5-d504-42fc-ba88-5517e0a7a4eb",
   "metadata": {},
   "source": [
    "# Calculate:\n",
    "\n",
    "Total Q1 sales\n",
    "\n",
    "Average monthly sales\n",
    "\n",
    "Highest sales month (use variables to compare)\n",
    "\n"
   ]
  },
  {
   "cell_type": "code",
   "execution_count": 17,
   "id": "988a7f64-bb78-4374-8a25-b8fd504697d3",
   "metadata": {},
   "outputs": [],
   "source": [
    "# values assignment\n",
    "jan_sales = 150000\n",
    "feb_sales = 175000\n",
    "mar_sales = 160000"
   ]
  },
  {
   "cell_type": "code",
   "execution_count": 18,
   "id": "e1c6944b-07ac-40cd-854f-0cf544d59321",
   "metadata": {},
   "outputs": [],
   "source": [
    "# calculating total q1 sales \n",
    "\n",
    "total_sales=jan_sales+feb_sales+mar_sales\n",
    "# calulating Average monthly sales\n",
    "avg=total_sales/3"
   ]
  },
  {
   "cell_type": "code",
   "execution_count": 19,
   "id": "3aa32638-b122-4595-9659-1b14c3b7214f",
   "metadata": {},
   "outputs": [
    {
     "name": "stdout",
     "output_type": "stream",
     "text": [
      "Total Q1 sales =  485000\n",
      "Average monthly sales=  161666.66666666666\n"
     ]
    }
   ],
   "source": [
    "print(\"Total Q1 sales = \",total_sales)\n",
    "print(\"Average monthly sales= \",avg)"
   ]
  },
  {
   "cell_type": "code",
   "execution_count": 20,
   "id": "4400c2e9-e637-4b98-a751-c0b1fae63934",
   "metadata": {},
   "outputs": [
    {
     "name": "stdout",
     "output_type": "stream",
     "text": [
      "Highest sales month = February\n"
     ]
    }
   ],
   "source": [
    "# finding Highest sales month (use variables to compare)\n",
    "if jan_sales>feb_sales and jan_sales>mar_sales:\n",
    "    print(\"Highest sales month = januray\")\n",
    "elif feb_sales>jan_sales and feb_sales>mar_sales:\n",
    "    print(\"Highest sales month = February\")\n",
    "else :\n",
    "    print(\"Highest sales month = march\")"
   ]
  },
  {
   "cell_type": "markdown",
   "id": "1874ac7f-52fb-4346-8014-357c7723ab12",
   "metadata": {},
   "source": [
    "# 🔹 Q3: Store Dataset Info Using Variables\n",
    "Assume you downloaded a CSV file called \"customer_data.csv\"\n",
    "Create variables to store:\n",
    "\n",
    "File name\n",
    "\n",
    "Total rows (assume 1000)\n",
    "\n",
    "Total columns (assume 8)\n",
    "\n",
    "Is the dataset clean (no nulls)? → False\n",
    "\n",
    "Print a summary like:\n",
    "\n",
    "\"The dataset customer_data.csv has 1000 rows, 8 columns. Is it clean? False\""
   ]
  },
  {
   "cell_type": "code",
   "execution_count": 21,
   "id": "e789db12-d5ba-4c9c-9648-77ab7f5a63a3",
   "metadata": {},
   "outputs": [
    {
     "name": "stdout",
     "output_type": "stream",
     "text": [
      "The dataset customer_data.csv has 1000 rows,8 columns.is it clean? False\n"
     ]
    }
   ],
   "source": [
    "# assigning values to variables\n",
    "File_name=\"customer_data.csv\"\n",
    "total_rows=1000\n",
    "total_columns=8\n",
    "is_it_clean=False\n",
    "#printing the statement\n",
    "print(f\"The dataset {File_name} has {total_rows} rows,{total_columns} columns.is it clean? {is_it_clean}\")"
   ]
  },
  {
   "cell_type": "markdown",
   "id": "33ac13de-6c20-4ed5-98a3-43ef011b51ad",
   "metadata": {},
   "source": [
    "# 🔹 Q4: Simple Salary Calculator\n",
    "Create variables for:\n",
    "\n",
    "base_salary = 30000\n",
    "\n",
    "incentive = 5000\n",
    "\n",
    "deductions = 2000\n",
    "Calculate and print the net salary\n",
    "\n"
   ]
  },
  {
   "cell_type": "markdown",
   "id": "0c275379-3254-404f-9eff-5c0d1e4e877f",
   "metadata": {},
   "source": [
    "# formula for finding the net salary\n",
    "net_salary=base salary+incentives-detductions"
   ]
  },
  {
   "cell_type": "code",
   "execution_count": 22,
   "id": "71b5fecb-a259-41cf-9df5-14444c3642db",
   "metadata": {},
   "outputs": [
    {
     "name": "stdout",
     "output_type": "stream",
     "text": [
      "net salary is:  33000\n"
     ]
    }
   ],
   "source": [
    "base_salary = 30000\n",
    "\n",
    "incentive = 5000\n",
    "\n",
    "deductions = 2000\n",
    "\n",
    "net_salary=(base_salary+incentive)-deductions\n",
    "print(\"net salary is: \",net_salary)"
   ]
  },
  {
   "cell_type": "markdown",
   "id": "a5c3f5d9-27cd-42cc-a78e-90be37ca2338",
   "metadata": {},
   "source": [
    "# 🔹 Q5: Budget Tracker (with user input – optional)\n",
    "Use input() function to get:\n",
    "\n",
    "Monthly income\n",
    "\n",
    "Rent\n",
    "\n",
    "Food\n",
    "\n",
    "Other expenses\n",
    "Print the remaining balance after expenses.\n",
    "\n",
    "Hint: remaining = income - (rent + food + others)"
   ]
  },
  {
   "cell_type": "code",
   "execution_count": 23,
   "id": "5ab9bcd2-2f00-4280-aaf0-737a20dfa8c9",
   "metadata": {},
   "outputs": [
    {
     "name": "stdin",
     "output_type": "stream",
     "text": [
      "enter monthly income: 30000\n",
      "enter your rent: 8000\n",
      "enter your food expenses: 2000\n",
      "enter your other expenses: 3000\n"
     ]
    },
    {
     "name": "stdout",
     "output_type": "stream",
     "text": [
      "your savings are : 17000 rupees\n"
     ]
    }
   ],
   "source": [
    "# getting user input\n",
    "monthly_income=int(input(\"enter monthly income:\"))\n",
    "Rent=int(input(\"enter your rent:\"))\n",
    "food=int(input(\"enter your food expenses:\"))\n",
    "others=int(input(\"enter your other expenses:\"))\n",
    "remaining=monthly_income-(Rent+food+others)\n",
    "print(\"your savings are :\",remaining ,\"rupees\")\n"
   ]
  },
  {
   "cell_type": "code",
   "execution_count": null,
   "id": "0d1d6ee2-5133-431b-8a46-fed6f9ba9751",
   "metadata": {},
   "outputs": [],
   "source": []
  }
 ],
 "metadata": {
  "kernelspec": {
   "display_name": "Python 3 (ipykernel)",
   "language": "python",
   "name": "python3"
  },
  "language_info": {
   "codemirror_mode": {
    "name": "ipython",
    "version": 3
   },
   "file_extension": ".py",
   "mimetype": "text/x-python",
   "name": "python",
   "nbconvert_exporter": "python",
   "pygments_lexer": "ipython3",
   "version": "3.12.7"
  }
 },
 "nbformat": 4,
 "nbformat_minor": 5
}
