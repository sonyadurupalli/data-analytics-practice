{
 "cells": [
  {
   "cell_type": "markdown",
   "id": "7d4d4738-97e4-421e-8944-9f3b363a5598",
   "metadata": {},
   "source": [
    "# Python Day 2 – Data Types & Type Casting Practice\n",
    "\n",
    "This notebook contains real-world exercises on Python data types, conversions, and data cleaning — all crucial tasks for a data analyst during preprocessing and exploration phases.\n"
   ]
  },
  {
   "cell_type": "markdown",
   "id": "1a510f72-9bb7-4fde-9dae-4c296513a9c6",
   "metadata": {},
   "source": [
    "# ✅ Practice Questions – Data Types for Data Analysts\n"
   ]
  },
  {
   "cell_type": "markdown",
   "id": "e2f5f4ef-4cb1-4985-8bdc-002821c9a979",
   "metadata": {},
   "source": [
    "# 🔹 Q1: Identify Data Types in a Dataset\n",
    "You are working with the following fields from a CSV file:\n",
    "\n",
    "customer_name = \"Sony\"\n",
    "\n",
    "customer_age = 25\n",
    "\n",
    "order_value = 1399.75\n",
    "\n",
    "is_prime_member = True\n",
    "\n",
    "join_date = \"2024-07-01\"\n",
    "\n",
    "👉 Print the data type of each variable using type()\n",
    "\n",
    "👉 Explain briefly: Which variables should be converted for analysis?\n"
   ]
  },
  {
   "cell_type": "code",
   "execution_count": 1,
   "id": "d021279a-0972-4434-b46d-5616c2ea41e6",
   "metadata": {},
   "outputs": [],
   "source": [
    "#variable declaration and assignment\n",
    "customer_name = \"Sony\"\n",
    "\n",
    "customer_age = 25\n",
    "\n",
    "order_value = 1399.75\n",
    "\n",
    "is_prime_member = True\n",
    "\n",
    "join_date = \"2024-07-01\""
   ]
  },
  {
   "cell_type": "code",
   "execution_count": 2,
   "id": "de0ff878-675d-48f0-a3a2-83f3237357e0",
   "metadata": {},
   "outputs": [
    {
     "data": {
      "text/plain": [
       "str"
      ]
     },
     "execution_count": 2,
     "metadata": {},
     "output_type": "execute_result"
    }
   ],
   "source": [
    "#Print the data type of each variable using type()\n",
    "type(customer_name)\n"
   ]
  },
  {
   "cell_type": "code",
   "execution_count": 3,
   "id": "09fb08ec-187d-4915-b505-8a7f0e3c89c4",
   "metadata": {},
   "outputs": [
    {
     "data": {
      "text/plain": [
       "int"
      ]
     },
     "execution_count": 3,
     "metadata": {},
     "output_type": "execute_result"
    }
   ],
   "source": [
    "type(customer_age)"
   ]
  },
  {
   "cell_type": "code",
   "execution_count": 4,
   "id": "ebd35169-a807-422a-bac2-c871e7e78102",
   "metadata": {},
   "outputs": [
    {
     "data": {
      "text/plain": [
       "float"
      ]
     },
     "execution_count": 4,
     "metadata": {},
     "output_type": "execute_result"
    }
   ],
   "source": [
    "type(order_value)"
   ]
  },
  {
   "cell_type": "code",
   "execution_count": 5,
   "id": "0effb797-c65f-43b8-af65-d90756e0f88f",
   "metadata": {},
   "outputs": [
    {
     "data": {
      "text/plain": [
       "bool"
      ]
     },
     "execution_count": 5,
     "metadata": {},
     "output_type": "execute_result"
    }
   ],
   "source": [
    "type(is_prime_member)"
   ]
  },
  {
   "cell_type": "code",
   "execution_count": 6,
   "id": "eee0cbec-6567-4dcb-a723-c53905c43ed4",
   "metadata": {},
   "outputs": [
    {
     "data": {
      "text/plain": [
       "str"
      ]
     },
     "execution_count": 6,
     "metadata": {},
     "output_type": "execute_result"
    }
   ],
   "source": [
    "type(join_date)"
   ]
  },
  {
   "cell_type": "markdown",
   "id": "b6c6cb69-a14d-4402-bd31-dcbd902c66b5",
   "metadata": {},
   "source": [
    "#  Explain briefly: Which variables should be converted for analysis?\n",
    "- `customer_name`: str → no need to convert\n",
    "- `customer_age`: int → ready for analysis\n",
    "- `order_value`: float → ready for calculations\n",
    "- `is_prime_member`: bool → good for filtering/grouping\n",
    "- `join_date`: str → ✅ should be converted to `datetime` for time-based analysis\n",
    "\n"
   ]
  },
  {
   "cell_type": "markdown",
   "id": "be041372-c684-4a21-be15-38896bf6d217",
   "metadata": {},
   "source": [
    "# 🔹 Q2: Clean and Convert Data Types\n",
    "You received this list from a CSV column:\n",
    "\n",
    "ages = [\"24\", \"30\", \"28\", \"unknown\", \"35\"]\n",
    "\n",
    "\n",
    "Write code to:\n",
    "\n",
    "Convert all valid strings to integers\n",
    "\n",
    "Skip or label invalid ones like \"unknown\"\n",
    "\n",
    "Store valid numbers in a new list\n",
    "\n",
    "Print the cleaned list and average age"
   ]
  },
  {
   "cell_type": "code",
   "execution_count": 8,
   "id": "8098a635-28d1-446c-b7cb-af554b4f60e1",
   "metadata": {},
   "outputs": [
    {
     "name": "stdout",
     "output_type": "stream",
     "text": [
      "Invalid age found: ['24', '30', '28', 'unknown', '35']\n",
      "Cleaned ages: [24, 30, 28, 35]\n",
      "Average age: 29.25\n"
     ]
    }
   ],
   "source": [
    "ages = [\"24\", \"30\", \"28\", \"unknown\", \"35\"]\n",
    "\n",
    "cleaned_ages = []\n",
    "\n",
    "for i in ages:\n",
    "    try:\n",
    "        cleaned_ages.append(int(i))\n",
    "    except ValueError:\n",
    "        print(f\"Invalid age found: {ages}\")\n",
    "\n",
    "print(\"Cleaned ages:\", cleaned_ages)\n",
    "print(\"Average age:\", sum(cleaned_ages) / len(cleaned_ages))\n"
   ]
  },
  {
   "cell_type": "markdown",
   "id": "033223d8-5796-498d-a7b6-2944547a21e8",
   "metadata": {},
   "source": [
    "# 🔹 Q3: Type Casting for Price Calculation\n",
    "\n",
    "item_price = \"499.99\"     # string\n",
    "\n",
    "quantity = \"3\"            # string\n",
    "\n",
    "👉 Convert both to numbers\n",
    "\n",
    "👉 Calculate total price\n",
    "\n",
    "👉 Print:You bought 3 items for 499.99 each. Total = ₹1499.97"
   ]
  },
  {
   "cell_type": "code",
   "execution_count": 9,
   "id": "cc1a145b-ab8c-4d0b-9be1-5d6d64ed0956",
   "metadata": {},
   "outputs": [],
   "source": [
    "item_price = \"499.99\" # string\n",
    "quantity = \"3\" # string\n",
    "#Convert both to numbers\n",
    "item_price=float(item_price)\n",
    "quantity=int(quantity)\n"
   ]
  },
  {
   "cell_type": "code",
   "execution_count": 10,
   "id": "d44f6afb-699b-4d32-ab46-0d1f37aa27ee",
   "metadata": {},
   "outputs": [
    {
     "data": {
      "text/plain": [
       "float"
      ]
     },
     "execution_count": 10,
     "metadata": {},
     "output_type": "execute_result"
    }
   ],
   "source": [
    "type(item_price)"
   ]
  },
  {
   "cell_type": "code",
   "execution_count": 11,
   "id": "79a3fff1-1ddd-49ed-8e82-2ed4bc0d580f",
   "metadata": {},
   "outputs": [
    {
     "data": {
      "text/plain": [
       "int"
      ]
     },
     "execution_count": 11,
     "metadata": {},
     "output_type": "execute_result"
    }
   ],
   "source": [
    "type(quantity)"
   ]
  },
  {
   "cell_type": "code",
   "execution_count": 12,
   "id": "dbb56f2f-4123-4f7e-a07e-fa05caae1d70",
   "metadata": {},
   "outputs": [
    {
     "name": "stdout",
     "output_type": "stream",
     "text": [
      "You bought 3 items for 499.99 You bought = rs1499.97\n"
     ]
    }
   ],
   "source": [
    "total_price=item_price*quantity\n",
    "print(f\"You bought {quantity} items for {item_price} You bought = rs{total_price}\")"
   ]
  },
  {
   "cell_type": "markdown",
   "id": "dd5fe1f9-237d-4002-b3f5-d0a6c16fdca7",
   "metadata": {},
   "source": [
    "# 🔹 Q4: Boolean Conversion – Filter Prime Members\n",
    "You have a list of membership status:\n",
    "\n",
    "prime_status = [\"True\", \"False\", \"True\", \"True\", \"False\"]\n",
    "\n",
    "👉 Convert these strings to real Boolean values\n",
    "\n",
    "👉 Count how many customers are prime members"
   ]
  },
  {
   "cell_type": "code",
   "execution_count": 13,
   "id": "9a419273-95a9-48e9-8502-eadfdc067959",
   "metadata": {},
   "outputs": [
    {
     "name": "stdout",
     "output_type": "stream",
     "text": [
      "3 customers are prime members\n"
     ]
    }
   ],
   "source": [
    "prime_status = [\"True\", \"False\", \"True\", \"True\", \"False\"]\n",
    "new_status=[]\n",
    "count=0\n",
    "for i in prime_status:\n",
    "    if i== \"True\":\n",
    "        new_status.append(True)\n",
    "    else:\n",
    "        new_status.append(False)\n",
    "        \n",
    "for i in new_status:\n",
    "    if i:\n",
    "        count=count+1\n",
    "print(f\"{count} customers are prime members\")\n"
   ]
  },
  {
   "cell_type": "markdown",
   "id": "482c7c04-f841-4838-88c8-110f4a932828",
   "metadata": {},
   "source": [
    "# 🔹 Q5: Data Types Summary Report (Mini Function)\n",
    "Write a function describe_data(var) that:\n",
    "\n",
    "Takes a variable\n",
    "\n",
    "Prints its value, data type, and whether it’s numeric, string, or boolean\n",
    "\n",
    "Test with:\n",
    "\n",
    "describe_data(\"Hyderabad\")\n",
    "\n",
    "describe_data(45.8)\n",
    "\n",
    "describe_data(True)\n",
    "\n",
    "Expected Output:\n",
    "\n",
    "Value: Hyderabad | Type: str | Category: String\n",
    "\n",
    "Value: 45.8 | Type: float | Category: Numeric\n",
    "\n",
    "Value: True | Type: bool | Category: Boolean"
   ]
  },
  {
   "cell_type": "code",
   "execution_count": 14,
   "id": "e7829cde-0c5b-4080-9e88-c9863dfa11db",
   "metadata": {},
   "outputs": [
    {
     "name": "stdout",
     "output_type": "stream",
     "text": [
      "Value:Hyderabad| Type:<class 'str'>| Category:String \n",
      "Value:45.8| Type:<class 'float'>| Category: Numeric\n",
      "Value:True| Type:<class 'bool'>| Category:Boolean\n"
     ]
    }
   ],
   "source": [
    "def describe_data(var):\n",
    "    if isinstance(var,bool):\n",
    "        category=\"Boolean\"\n",
    "    elif isinstance(var,(int,float)):\n",
    "        category=\" Numeric\"\n",
    "    elif isinstance(var,str):\n",
    "        category=\"String \"\n",
    "\n",
    "    else:\n",
    "        category=\"Others\"\n",
    "    \n",
    "    print(f\"Value:{var}| Type:{type(var)}| Category:{category}\")\n",
    "\n",
    "describe_data(\"Hyderabad\")\n",
    "\n",
    "describe_data(45.8)\n",
    "\n",
    "describe_data(True)\n",
    " \n",
    "    "
   ]
  },
  {
   "cell_type": "code",
   "execution_count": null,
   "id": "7a37fc65-a4bd-4b00-9aee-f4702ca0bd1e",
   "metadata": {},
   "outputs": [],
   "source": []
  }
 ],
 "metadata": {
  "kernelspec": {
   "display_name": "Python 3 (ipykernel)",
   "language": "python",
   "name": "python3"
  },
  "language_info": {
   "codemirror_mode": {
    "name": "ipython",
    "version": 3
   },
   "file_extension": ".py",
   "mimetype": "text/x-python",
   "name": "python",
   "nbconvert_exporter": "python",
   "pygments_lexer": "ipython3",
   "version": "3.12.7"
  }
 },
 "nbformat": 4,
 "nbformat_minor": 5
}
